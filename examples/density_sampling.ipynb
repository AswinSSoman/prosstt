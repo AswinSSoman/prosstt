{
 "cells": [
  {
   "cell_type": "code",
   "execution_count": 1,
   "metadata": {},
   "outputs": [],
   "source": [
    "import numpy as np\n",
    "from numpy import random\n",
    "import scipy as sp\n",
    "import newick\n",
    "\n",
    "import matplotlib.pyplot as plt\n",
    "\n",
    "from prosstt import tree\n",
    "from prosstt import simulation as sim\n",
    "from prosstt import sim_utils as sut\n",
    "from prosstt import count_model as cm"
   ]
  },
  {
   "cell_type": "code",
   "execution_count": 2,
   "metadata": {},
   "outputs": [],
   "source": [
    "newick1 = \"(A,B)C;\"\n",
    "tree1 = newick.loads(newick1)\n",
    "G = 500\n",
    "lineage = tree.Tree.from_newick(newick1, genes=G)"
   ]
  },
  {
   "cell_type": "markdown",
   "metadata": {},
   "source": [
    "visualize the topology"
   ]
  },
  {
   "cell_type": "code",
   "execution_count": 3,
   "metadata": {},
   "outputs": [
    {
     "name": "stdout",
     "output_type": "stream",
     "text": [
      "    ┌─A\n",
      "──C─┤\n",
      "    └─B\n"
     ]
    }
   ],
   "source": [
    "print(tree1[0].ascii_art())"
   ]
  },
  {
   "cell_type": "markdown",
   "metadata": {},
   "source": [
    "confirm that the density in the tree sums up to 1"
   ]
  },
  {
   "cell_type": "code",
   "execution_count": 4,
   "metadata": {},
   "outputs": [
    {
     "name": "stdout",
     "output_type": "stream",
     "text": [
      "1.0\n"
     ]
    }
   ],
   "source": [
    "tree_density = lineage.default_density()\n",
    "total_density = 0\n",
    "for branch in lineage.branches:\n",
    "    total_density += np.sum(tree_density[branch])\n",
    "print(total_density)"
   ]
  },
  {
   "cell_type": "markdown",
   "metadata": {},
   "source": [
    "define a non-homogeneous density: let's say we want a normal distribution to describe the cell density during pseudotime. In a single bifurcation like this one, this means that the branch 'A' will have a density of the left half of a gaussian and branches 'B' and 'C' will have half the density of the right half of a gaussian:"
   ]
  },
  {
   "cell_type": "code",
   "execution_count": 5,
   "metadata": {},
   "outputs": [],
   "source": [
    "# first half, going up to the branch point\n",
    "# half a normal distribution, so we halve the PDF\n",
    "mmin = -4\n",
    "mmax = 0\n",
    "steps = 40\n",
    "step_size = np.abs(mmax - mmin) / steps\n",
    "pos = np.arange(mmin, mmax, step_size)\n",
    "len(pos)\n",
    "mynorm = sp.stats.norm()\n",
    "branch0 = mynorm.pdf(pos) / 2\n",
    "# second half, going down from the branch point\n",
    "# two times since we want it for both new branches\n",
    "mmin = 0\n",
    "mmax = 4\n",
    "steps = 40\n",
    "step_size = np.abs(mmax - mmin) / steps\n",
    "pos = np.arange(mmin, mmax, step_size)\n",
    "branch12 = mynorm.pdf(pos) / 4\n",
    "total_density = np.sum(branch0) + np.sum(branch12) +np.sum(branch12)"
   ]
  },
  {
   "cell_type": "code",
   "execution_count": 6,
   "metadata": {},
   "outputs": [],
   "source": [
    "# use densities and normalize to make sure it adds up to 1\n",
    "# so that the probabilistic sampling makes sense\n",
    "density = {}\n",
    "density['C'] = branch0 / total_density\n",
    "density['B'] = branch12 / total_density\n",
    "density['A'] = branch12 / total_density\n",
    "lineage.density = density"
   ]
  },
  {
   "cell_type": "code",
   "execution_count": 7,
   "metadata": {},
   "outputs": [
    {
     "name": "stderr",
     "output_type": "stream",
     "text": [
      "/home/npapado/miniconda2/envs/py36/lib/python3.6/site-packages/scipy/stats/stats.py:3003: RuntimeWarning: invalid value encountered in double_scalars\n",
      "  r = r_num / r_den\n"
     ]
    }
   ],
   "source": [
    "alpha, beta = cm.generate_negbin_params(lineage)\n",
    "lineage.default_gene_expression()"
   ]
  },
  {
   "cell_type": "code",
   "execution_count": 8,
   "metadata": {},
   "outputs": [],
   "source": [
    "X, labels, branches, scalings = sim.sample_density(lineage, 300, alpha=alpha, beta=beta)"
   ]
  },
  {
   "cell_type": "markdown",
   "metadata": {},
   "source": [
    "plot the density of the pseudotime points present in each branch to see that they conform with the density function we defined"
   ]
  },
  {
   "cell_type": "code",
   "execution_count": 9,
   "metadata": {},
   "outputs": [
    {
     "data": {
      "image/png": "[encoded data removed]",
      "text/plain": [
       "<matplotlib.figure.Figure at 0x7f177668a748>"
      ]
     },
     "metadata": {},
     "output_type": "display_data"
    }
   ],
   "source": [
    "fig, ax = plt.subplots(ncols=2, nrows=2)\n",
    "fig.set_size_inches(w=9, h=7)\n",
    "ax[0, 0].hist(labels)\n",
    "ax[0, 0].set_title(\"all\")\n",
    "ax[0, 1].hist(labels[branches=='C'])\n",
    "ax[0, 1].set_title(\"branch 0\")\n",
    "ax[1, 0].hist(labels[branches=='A'])\n",
    "ax[1, 0].set_title(\"branch 1\")\n",
    "ax[1, 1].hist(labels[branches=='B'])\n",
    "ax[1, 1].set_title(\"branch 2\")\n",
    "plt.show()"
   ]
  }
 ],
 "metadata": {
  "kernelspec": {
   "display_name": "Python 3",
   "language": "python",
   "name": "python3"
  },
  "language_info": {
   "codemirror_mode": {
    "name": "ipython",
    "version": 3
   },
   "file_extension": ".py",
   "mimetype": "text/x-python",
   "name": "python",
   "nbconvert_exporter": "python",
   "pygments_lexer": "ipython3",
   "version": "3.6.4"
  }
 },
 "nbformat": 4,
 "nbformat_minor": 2
}
