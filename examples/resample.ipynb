{
 "cells": [
  {
   "cell_type": "code",
   "execution_count": 3,
   "metadata": {},
   "outputs": [],
   "source": [
    "%matplotlib notebook\n",
    "import numpy as np\n",
    "from numpy import random\n",
    "import pandas as pd\n",
    "import scipy as sp\n",
    "from prosstt import simulation as sim\n",
    "from prosstt import tree\n",
    "from prosstt.tree import Tree\n",
    "\n",
    "import matplotlib.pyplot as plt"
   ]
  },
  {
   "cell_type": "code",
   "execution_count": 34,
   "metadata": {},
   "outputs": [],
   "source": [
    "def save_files(job_id, save_dir, X, labs, brns, scalings, uMs, Hs, gene_scale, alpha, beta):\n",
    "    # make the data more presentable by adding gene and cell names\n",
    "    cell_names = [\"cell_\" + str(i) for i in range(X.shape[0])]\n",
    "    gene_names = [\"gene_\" + str(i) for i in range(X.shape[1])]\n",
    "\n",
    "    pdX = pd.DataFrame(X, columns=gene_names, index=cell_names).astype(int)\n",
    "    pdCells = pd.DataFrame({\"pseudotime\": labs, \"branches\": brns, \"scalings\": scalings}, index=cell_names,\n",
    "                           columns=[\"pseudotime\", \"branches\", \"scalings\"])\n",
    "    pdGenes = pd.DataFrame({\"alpha\": alpha, \"beta\": beta, \"genescale\": gene_scale}, index=gene_names,\n",
    "                           columns=[\"alpha\", \"beta\", \"genescale\"])\n",
    "\n",
    "    pdX.to_csv(save_dir + \"/\" + job_id + \"_simulation.txt\", sep=\"\\t\")\n",
    "    pdCells.to_csv(save_dir + \"/\" + job_id + \"_cellparams.txt\", sep=\"\\t\")\n",
    "    pdGenes.to_csv(save_dir + \"/\" + job_id + \"_geneparams.txt\", sep=\"\\t\")\n",
    "\n",
    "    num_branches = len(uMs)\n",
    "    for i in range(num_branches):\n",
    "        np.savetxt(fname=save_dir + \"/\" + job_id + \"_ums\" + str(i) + \".txt\", X=uMs[i])\n",
    "        np.savetxt(fname=save_dir + \"/\" + job_id + \"_hs\" + str(i) + \".txt\", X=Hs[i])\n",
    "\n",
    "\n",
    "def save_params(job_id, save_dir, G, br_lengths, br_compl, rseed, topology):\n",
    "    paramfile = save_dir + \"/\" + job_id + \"_params.txt\"\n",
    "    with open(paramfile, 'w') as out:\n",
    "        out.write(\"Genes: \" + str(G) + \"\\n\")\n",
    "        out.write(\"pseudotimes: \" + str(br_lengths) + \"\\n\")\n",
    "        out.write(\"topology: \" + str(topology) + \"\\n\")\n",
    "        out.write(\"#modules: \" + str(br_compl) + \"\\n\")\n",
    "        out.write(\"random seed: \" + str(rseed))"
   ]
  },
  {
   "cell_type": "code",
   "execution_count": 31,
   "metadata": {},
   "outputs": [],
   "source": [
    "loc = \"/data/niko/final/benchmark1/test38/test38_\"\n",
    "\n",
    "G = 758\n",
    "pseudotimes = [50, 50, 50]\n",
    "topology = [[0, 1], [0, 2]]\n",
    "gene_params = pd.read_csv(loc + \"geneparams.txt\", sep=\"\\t\", index_col=0)\n",
    "alpha = np.array(gene_params[\"alpha\"])\n",
    "beta = np.array(gene_params[\"beta\"])\n",
    "base_exp = np.array(gene_params[\"genescale\"])\n",
    "\n",
    "uMs = [np.zeros((pseudotimes[i], G)) for i in range(3)]\n",
    "Ms = [np.zeros((pseudotimes[i], G)) for i in range(3)]\n",
    "for i in range(3):\n",
    "    uMs[i] = np.loadtxt(loc + \"ums\" + str(i) + \".txt\")\n",
    "    Ms[i] = np.exp(uMs[i]) * base_exp\n",
    "\n",
    "t = tree.Tree(topology, pseudotimes, 3, 1, 10, G)\n",
    "t.add_genes(Ms)"
   ]
  },
  {
   "cell_type": "code",
   "execution_count": 32,
   "metadata": {},
   "outputs": [
    {
     "name": "stdout",
     "output_type": "stream",
     "text": [
      " |████████████████████████████████████████████████████████████████████████████████████████████████████| 99.8% "
     ]
    }
   ],
   "source": [
    "sample_time = np.arange(0, t.get_max_time())\n",
    "X, labs, brns, scalings = sim.sample_data_balanced(4, G, t, sample_time, alpha, beta, scale_v=0.8)"
   ]
  },
  {
   "cell_type": "code",
   "execution_count": 36,
   "metadata": {},
   "outputs": [],
   "source": [
    "job_id = \"single\"\n",
    "save_dir = \"/home/npapado/Documents/repos/prosstt/data/single/\"\n",
    "save_params(job_id, save_dir, G, pseudotimes, 10, \"none\", topology)\n",
    "save_files(job_id, save_dir, X, labs, brns, scalings, uMs, uMs, base_exp, alpha, beta) # replace with real hs from simulation\n",
    "scalefile = save_dir + \"/\" + job_id + \"_scalings.txt\"\n",
    "np.savetxt(scalefile, scalings)"
   ]
  }
 ],
 "metadata": {
  "kernelspec": {
   "display_name": "Python 3",
   "language": "python",
   "name": "python3"
  },
  "language_info": {
   "codemirror_mode": {
    "name": "ipython",
    "version": 3
   },
   "file_extension": ".py",
   "mimetype": "text/x-python",
   "name": "python",
   "nbconvert_exporter": "python",
   "pygments_lexer": "ipython3",
   "version": "3.5.4"
  }
 },
 "nbformat": 4,
 "nbformat_minor": 2
}
