{
 "cells": [
  {
   "cell_type": "code",
   "execution_count": 1,
   "metadata": {},
   "outputs": [],
   "source": [
    "import numpy as np\n",
    "import scipy as sp\n",
    "from scipy.special import gamma as Gamma\n",
    "from scipy.special import loggamma\n",
    "from scipy import stats\n",
    "import random as rng\n",
    "import sys\n",
    "from collections import defaultdict"
   ]
  },
  {
   "cell_type": "code",
   "execution_count": 26,
   "metadata": {},
   "outputs": [],
   "source": [
    "class Tree(object):\n",
    "    'topology of the differentiation tree'\n",
    "\n",
    "    # default values for when the user is not decided\n",
    "    def_time = 40\n",
    "    def_comp = 15\n",
    "    def_genes = 500\n",
    "\n",
    "    def __init__(self, topology=[[0, 1], [0, 2]],\n",
    "                 time=[def_time] * 3,\n",
    "                 branches=3,\n",
    "                 branch_points=1,\n",
    "                 modules=def_comp,\n",
    "                 G=500,\n",
    "                 density=None):\n",
    "        self.topology = topology\n",
    "        self.time = time\n",
    "        self.branches = branches\n",
    "        self.branch_points = branch_points\n",
    "        self.modules = modules\n",
    "        self.G = G\n",
    "        self.means = None\n",
    "        if density is None:\n",
    "            self.density = self.default_density()\n",
    "        else:\n",
    "            self.density = density\n",
    "\n",
    "    @classmethod\n",
    "    def from_topology(cls, topology):\n",
    "        \"\"\"\n",
    "        Alternative constructor that creates a default tree object from a\n",
    "        given topology.\n",
    "\n",
    "        Parameters\n",
    "        ----------\n",
    "        topology: int array\n",
    "            An array that describes which branches are connected to each other.\n",
    "            [[0, 1], [0, 2]] describes a single bifurcation where branch 0\n",
    "            is connected with branches 1 and 2.\n",
    "\n",
    "        Returns\n",
    "        -------\n",
    "        Tree\n",
    "            An object of the Tree class with default branch lengths and branch\n",
    "            times.\n",
    "        \"\"\"\n",
    "        # information about branches/branchpoints is in the topology\n",
    "        branches, branch_points = cls.analyze_topology(cls, topology)\n",
    "\n",
    "        # now we can create everything else:\n",
    "        time = [cls.def_time] * branches\n",
    "        modules = cls.def_comp\n",
    "        G = cls.def_genes\n",
    "\n",
    "        return cls(topology, time, branches, branch_points, modules, G)\n",
    "\n",
    "    @staticmethod\n",
    "    # assert branch_points>0\n",
    "    def gen_random_topology(branch_points):\n",
    "        n = branch_points\n",
    "        b = 2 * n + 1\n",
    "        seeds = [0]\n",
    "        avail = list(reversed(range(1, b)))\n",
    "        res = []\n",
    "        while avail:\n",
    "            root = np.random.choice(seeds)\n",
    "            a = avail.pop()\n",
    "            b = avail.pop()\n",
    "            res.append([root, a])\n",
    "            res.append([root, b])\n",
    "            seeds.append(a)\n",
    "            seeds.append(b)\n",
    "            seeds.remove(root)\n",
    "        return res\n",
    "    \n",
    "    @classmethod\n",
    "    def from_random_topology(cls, branch_points, time, modules, G):\n",
    "        topology = cls.gen_random_topology(branch_points)\n",
    "        branches = len(np.unique(topology))\n",
    "        if isinstance(time, numbers.Number):\n",
    "            time = [time] * branches\n",
    "        return cls(topology, time, branches, branch_points, modules, G)\n",
    "    \n",
    "    def default_density(self):\n",
    "        \"\"\"\n",
    "        Initializes the density with a uniform distribution (every cell has the\n",
    "        same probability of being picked. This is in case the users want to use\n",
    "        the density sampling function.\n",
    "        \"\"\"\n",
    "        total_time = np.sum(self.time)\n",
    "        density = [np.array([1. / total_time] * t) for t in self.time]\n",
    "        return density"
   ]
  },
  {
   "cell_type": "code",
   "execution_count": 25,
   "metadata": {},
   "outputs": [
    {
     "data": {
      "text/plain": [
       "False"
      ]
     },
     "execution_count": 25,
     "metadata": {},
     "output_type": "execute_result"
    }
   ],
   "source": [
    "import numbers\n",
    "isinstance(np.array([1, 2, 3]), numbers.Number)"
   ]
  },
  {
   "cell_type": "code",
   "execution_count": 27,
   "metadata": {},
   "outputs": [],
   "source": [
    "t = Tree.from_random_topology(2, 50, 10, 500)"
   ]
  },
  {
   "cell_type": "code",
   "execution_count": null,
   "metadata": {},
   "outputs": [],
   "source": [
    "rseed = 42\n",
    "random.seed(rseed)\n",
    "\n",
    "t = tree.Tree(modules=8, time=[50]*3, G=100)\n",
    "sample_time = np.arange(0, t.get_max_time())\n",
    "gene_scale = np.exp(sp.stats.norm.rvs(loc=0.8, scale=1, size=t.G))\n",
    "\n",
    "Ms = None\n",
    "while not sim.are_lengths_ok(Ms):\n",
    "    uMs, Ws, Hs = simulate_branching_data(t, tol=0.2)\n",
    "    Ms = [np.zeros((t.time[i], t.G)) for i in range(t.branches)]\n",
    "    for i in range(t.branches):\n",
    "        Ms[i] = np.exp(uMs[i]) * gene_scale\n",
    "\n",
    "t.add_genes(Ms)"
   ]
  },
  {
   "cell_type": "code",
   "execution_count": 4,
   "metadata": {},
   "outputs": [
    {
     "ename": "SyntaxError",
     "evalue": "invalid syntax (<ipython-input-4-491f58b9da22>, line 1)",
     "output_type": "error",
     "traceback": [
      "\u001b[0;36m  File \u001b[0;32m\"<ipython-input-4-491f58b9da22>\"\u001b[0;36m, line \u001b[0;32m1\u001b[0m\n\u001b[0;31m    def sample_cells(tree, sampling_strategy, ...):\u001b[0m\n\u001b[0m                                                ^\u001b[0m\n\u001b[0;31mSyntaxError\u001b[0m\u001b[0;31m:\u001b[0m invalid syntax\n"
     ]
    }
   ],
   "source": [
    "def sample_cells(tree, sampling_strategy):\n",
    "    \n",
    "    X, labs, brns, scalings = sim.sample_data_balanced(1, G, t, sample_time, alpha, beta, scale_v=0.8)\n",
    "    return X, labs, brns, scalings"
   ]
  }
 ],
 "metadata": {
  "kernelspec": {
   "display_name": "Python 3",
   "language": "python",
   "name": "python3"
  },
  "language_info": {
   "codemirror_mode": {
    "name": "ipython",
    "version": 3
   },
   "file_extension": ".py",
   "mimetype": "text/x-python",
   "name": "python",
   "nbconvert_exporter": "python",
   "pygments_lexer": "ipython3",
   "version": "3.5.4"
  }
 },
 "nbformat": 4,
 "nbformat_minor": 2
}
